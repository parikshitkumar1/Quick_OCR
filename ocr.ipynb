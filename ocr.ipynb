{
  "nbformat": 4,
  "nbformat_minor": 0,
  "metadata": {
    "kernelspec": {
      "display_name": "Python 3",
      "language": "python",
      "name": "python3"
    },
    "language_info": {
      "codemirror_mode": {
        "name": "ipython",
        "version": 3
      },
      "file_extension": ".py",
      "mimetype": "text/x-python",
      "name": "python",
      "nbconvert_exporter": "python",
      "pygments_lexer": "ipython3",
      "version": "3.7.1"
    },
    "colab": {
      "name": "Deep Learning OCR.ipynb",
      "provenance": [],
      "collapsed_sections": []
    }
  },
  "cells": [
    {
      "cell_type": "code",
      "metadata": {
        "id": "N9WfRM7GLd-k"
      },
      "source": [
        "import pandas as pd\n",
        "import numpy as np\n",
        "import matplotlib.pyplot as plt\n",
        "import cv2 as cv"
      ],
      "execution_count": null,
      "outputs": []
    },
    {
      "cell_type": "code",
      "metadata": {
        "id": "cfGtpbuLLd-o"
      },
      "source": [
        "alpha=pd.read_csv('A_Z Handwritten Data.csv')"
      ],
      "execution_count": null,
      "outputs": []
    },
    {
      "cell_type": "code",
      "metadata": {
        "id": "q9cEDkHrLd-p"
      },
      "source": [
        "alphadata=alpha.sample(frac=.15,random_state=0)d"
      ],
      "execution_count": null,
      "outputs": []
    },
    {
      "cell_type": "code",
      "metadata": {
        "id": "pt3pbg32Ld-p",
        "outputId": "529d23f4-d545-4717-b613-c8a56d554a90"
      },
      "source": [
        "alpha.shape"
      ],
      "execution_count": null,
      "outputs": [
        {
          "output_type": "execute_result",
          "data": {
            "text/plain": [
              "(372450, 785)"
            ]
          },
          "metadata": {
            "tags": []
          },
          "execution_count": 4
        }
      ]
    },
    {
      "cell_type": "code",
      "metadata": {
        "id": "7ououX9dLd-r",
        "outputId": "d47904ac-3655-4a18-cbfd-c993b485df2c"
      },
      "source": [
        "alphadata.shape"
      ],
      "execution_count": null,
      "outputs": [
        {
          "output_type": "execute_result",
          "data": {
            "text/plain": [
              "(55868, 785)"
            ]
          },
          "metadata": {
            "tags": []
          },
          "execution_count": 5
        }
      ]
    },
    {
      "cell_type": "code",
      "metadata": {
        "id": "cWmWj6CWLd-r"
      },
      "source": [
        "alphalabels=alphadata[\"0\"]"
      ],
      "execution_count": null,
      "outputs": []
    },
    {
      "cell_type": "code",
      "metadata": {
        "id": "OYAqoza8Ld-s",
        "outputId": "34bebf86-6fee-4005-845b-5303d0b3381c"
      },
      "source": [
        "len(np.unique(alphalabels))"
      ],
      "execution_count": null,
      "outputs": [
        {
          "output_type": "execute_result",
          "data": {
            "text/plain": [
              "26"
            ]
          },
          "metadata": {
            "tags": []
          },
          "execution_count": 7
        }
      ]
    },
    {
      "cell_type": "code",
      "metadata": {
        "id": "d2vcOjhHLd-t"
      },
      "source": [
        "alphadata.drop(['0'],axis=1,inplace=True)"
      ],
      "execution_count": null,
      "outputs": []
    },
    {
      "cell_type": "code",
      "metadata": {
        "id": "heRT9B4cLd-t"
      },
      "source": [
        "from keras.datasets import mnist"
      ],
      "execution_count": null,
      "outputs": []
    },
    {
      "cell_type": "code",
      "metadata": {
        "id": "GOhqFJdILd-u"
      },
      "source": [
        "((dtrain,dtrainlabels),(dtest,dtestlabels))=mnist.load_data()"
      ],
      "execution_count": null,
      "outputs": []
    },
    {
      "cell_type": "code",
      "metadata": {
        "id": "AoLcBxnDLd-v",
        "outputId": "b8a650a7-7c33-488d-98f5-8ef0e4136740"
      },
      "source": [
        "dtrain.shape"
      ],
      "execution_count": null,
      "outputs": [
        {
          "output_type": "execute_result",
          "data": {
            "text/plain": [
              "(60000, 28, 28)"
            ]
          },
          "metadata": {
            "tags": []
          },
          "execution_count": 14
        }
      ]
    },
    {
      "cell_type": "code",
      "metadata": {
        "id": "fYfaPqKrLd-v"
      },
      "source": [
        "alphalabels=alphalabels+10"
      ],
      "execution_count": null,
      "outputs": []
    },
    {
      "cell_type": "code",
      "metadata": {
        "id": "Ow20DzslLd-w"
      },
      "source": [
        "azdata=np.array(alphadata)"
      ],
      "execution_count": null,
      "outputs": []
    },
    {
      "cell_type": "code",
      "metadata": {
        "id": "d9QQnHcpLd-w",
        "outputId": "835e46a0-7b6f-479f-d5bd-1d53a11b9fde"
      },
      "source": [
        "azdata.shape"
      ],
      "execution_count": null,
      "outputs": [
        {
          "output_type": "execute_result",
          "data": {
            "text/plain": [
              "(55868, 784)"
            ]
          },
          "metadata": {
            "tags": []
          },
          "execution_count": 17
        }
      ]
    },
    {
      "cell_type": "code",
      "metadata": {
        "id": "nUhy8TwGLd-x"
      },
      "source": [
        "azdata=azdata.reshape(55868,28,28)"
      ],
      "execution_count": null,
      "outputs": []
    },
    {
      "cell_type": "code",
      "metadata": {
        "id": "jGI-35lqLd-x",
        "outputId": "6a072bde-dd43-4e97-838c-969b2fdf5cb1"
      },
      "source": [
        "azdata.shape"
      ],
      "execution_count": null,
      "outputs": [
        {
          "output_type": "execute_result",
          "data": {
            "text/plain": [
              "(55868, 28, 28)"
            ]
          },
          "metadata": {
            "tags": []
          },
          "execution_count": 19
        }
      ]
    },
    {
      "cell_type": "code",
      "metadata": {
        "id": "A0jeq9Q8Ld-y"
      },
      "source": [
        "alphalabels=np.array(alphalabels)"
      ],
      "execution_count": null,
      "outputs": []
    },
    {
      "cell_type": "code",
      "metadata": {
        "id": "YG4mkDkKLd-y"
      },
      "source": [
        "data=np.vstack([dtrain,azdata])\n",
        "label=np.hstack([dtrainlabels,alphalabels])"
      ],
      "execution_count": null,
      "outputs": []
    },
    {
      "cell_type": "code",
      "metadata": {
        "id": "vqnFk5mlLd-z"
      },
      "source": [
        "data=data.astype('float32')"
      ],
      "execution_count": null,
      "outputs": []
    },
    {
      "cell_type": "code",
      "metadata": {
        "id": "tDaCPFnlLd-z"
      },
      "source": [
        "# data = [cv.resize(image, (32, 32)) for image in data]\n",
        "# data = np.array(data, dtype=\"float32\")"
      ],
      "execution_count": null,
      "outputs": []
    },
    {
      "cell_type": "code",
      "metadata": {
        "id": "irF92s5NLd-0",
        "outputId": "7d1bf6e1-bf84-4722-d22d-d2c75add3429"
      },
      "source": [
        "data.shape"
      ],
      "execution_count": null,
      "outputs": [
        {
          "output_type": "execute_result",
          "data": {
            "text/plain": [
              "(115868, 28, 28)"
            ]
          },
          "metadata": {
            "tags": []
          },
          "execution_count": 24
        }
      ]
    },
    {
      "cell_type": "code",
      "metadata": {
        "id": "3HWxqdgGLd-1"
      },
      "source": [
        "data=data.reshape(115868, 28, 28,1)"
      ],
      "execution_count": null,
      "outputs": []
    },
    {
      "cell_type": "code",
      "metadata": {
        "id": "bprMEt-_Ld-1",
        "outputId": "e2bf0931-4d58-403a-bb23-bebc495ab895"
      },
      "source": [
        "len(np.unique(label))"
      ],
      "execution_count": null,
      "outputs": [
        {
          "output_type": "execute_result",
          "data": {
            "text/plain": [
              "36"
            ]
          },
          "metadata": {
            "tags": []
          },
          "execution_count": 26
        }
      ]
    },
    {
      "cell_type": "code",
      "metadata": {
        "id": "mvnoiDCHLd-2"
      },
      "source": [
        "labels=pd.get_dummies(label)"
      ],
      "execution_count": null,
      "outputs": []
    },
    {
      "cell_type": "code",
      "metadata": {
        "id": "egq8GTHTLd-2",
        "outputId": "0daa2897-9350-4ee2-9757-085f08c70e52"
      },
      "source": [
        "labels.shape"
      ],
      "execution_count": null,
      "outputs": [
        {
          "output_type": "execute_result",
          "data": {
            "text/plain": [
              "(115868, 36)"
            ]
          },
          "metadata": {
            "tags": []
          },
          "execution_count": 28
        }
      ]
    },
    {
      "cell_type": "code",
      "metadata": {
        "id": "q-krpoq3Ld-3"
      },
      "source": [
        "from sklearn.model_selection import train_test_split"
      ],
      "execution_count": null,
      "outputs": []
    },
    {
      "cell_type": "code",
      "metadata": {
        "id": "DVish4RGLd-3"
      },
      "source": [
        "X_train,X_test,y_train,y_test=train_test_split(data,labels)"
      ],
      "execution_count": null,
      "outputs": []
    },
    {
      "cell_type": "code",
      "metadata": {
        "id": "xwxVQAMdLd-3",
        "outputId": "c37a6169-c9cd-4cb2-dad9-251d57af7bde"
      },
      "source": [
        "X_test.shape"
      ],
      "execution_count": null,
      "outputs": [
        {
          "output_type": "execute_result",
          "data": {
            "text/plain": [
              "(28967, 28, 28, 1)"
            ]
          },
          "metadata": {
            "tags": []
          },
          "execution_count": 41
        }
      ]
    },
    {
      "cell_type": "code",
      "metadata": {
        "id": "m5gQ0oh-Ld-4"
      },
      "source": [
        "from keras.models import Sequential\n",
        "from keras.layers import Conv2D,MaxPooling2D,Flatten,Dense,Dropout\n",
        "from keras.preprocessing.image import ImageDataGenerator\n",
        "\n",
        "from keras.applications.vgg16 import VGG16"
      ],
      "execution_count": null,
      "outputs": []
    },
    {
      "cell_type": "code",
      "metadata": {
        "id": "UGf_qO8ALd-4"
      },
      "source": [
        "datagen=ImageDataGenerator(rescale=1/255,rotation_range=10,zoom_range=0.05,shear_range=0.15,width_shift_range=0.1,height_shift_range=.1,fill_mode='nearest')"
      ],
      "execution_count": null,
      "outputs": []
    },
    {
      "cell_type": "code",
      "metadata": {
        "id": "6YgUG9gBLd-5"
      },
      "source": [
        "## the 1dim array GRAY\n",
        "model=Sequential()\n",
        "model.add(Conv2D(32,kernel_size=3,input_shape=(28,28,1),activation='relu'))\n",
        "model.add(MaxPooling2D(2,2))\n",
        "model.add(Conv2D(32,kernel_size=3,activation='relu'))\n",
        "model.add(MaxPooling2D(2,2))\n",
        "model.add(Flatten())\n",
        "model.add(Dense(100,activation='relu'))\n",
        "model.add(Dropout(0.5))\n",
        "model.add(Dense(36,activation='softmax'))\n",
        "model.compile(optimizer='adam',loss='binary_crossentropy',metrics=['accuracy'])\n"
      ],
      "execution_count": null,
      "outputs": []
    },
    {
      "cell_type": "code",
      "metadata": {
        "id": "wTgYvILwLd-5"
      },
      "source": [
        "bs=128"
      ],
      "execution_count": null,
      "outputs": []
    },
    {
      "cell_type": "code",
      "metadata": {
        "id": "Y3SwGPlRLd-6",
        "outputId": "e5ad9938-1046-4a28-b214-396c7537b3c8"
      },
      "source": [
        "model.fit_generator(datagen.flow(X_train,y_train,batch_size=bs),steps_per_epoch=len(X_train)//bs,validation_data=(X_test,y_test),epochs=10,class_weight='classWeight',\n",
        "\tverbose=1)"
      ],
      "execution_count": null,
      "outputs": [
        {
          "output_type": "stream",
          "text": [
            "Epoch 1/10\n",
            "678/678 [==============================] - 207s 305ms/step - loss: 0.0596 - acc: 0.9807 - val_loss: 0.1238 - val_acc: 0.9921\n",
            "Epoch 2/10\n",
            "678/678 [==============================] - 106s 157ms/step - loss: 0.0348 - acc: 0.9871 - val_loss: 0.1115 - val_acc: 0.9928\n",
            "Epoch 3/10\n",
            "678/678 [==============================] - 104s 154ms/step - loss: 0.0295 - acc: 0.9890 - val_loss: 0.1092 - val_acc: 0.9930\n",
            "Epoch 4/10\n",
            "678/678 [==============================] - 109s 161ms/step - loss: 0.0266 - acc: 0.9901 - val_loss: 0.1138 - val_acc: 0.9927\n",
            "Epoch 5/10\n",
            "678/678 [==============================] - 100s 147ms/step - loss: 0.0244 - acc: 0.9908 - val_loss: 0.1334 - val_acc: 0.9915\n",
            "Epoch 6/10\n",
            "678/678 [==============================] - 106s 156ms/step - loss: 0.0230 - acc: 0.9913 - val_loss: 0.1298 - val_acc: 0.9917\n",
            "Epoch 7/10\n",
            "678/678 [==============================] - 112s 165ms/step - loss: 0.0219 - acc: 0.9917 - val_loss: 0.1679 - val_acc: 0.9893\n",
            "Epoch 8/10\n",
            "678/678 [==============================] - 108s 160ms/step - loss: 0.0208 - acc: 0.9921 - val_loss: 0.2015 - val_acc: 0.9872\n",
            "Epoch 9/10\n",
            "678/678 [==============================] - 105s 156ms/step - loss: 0.0200 - acc: 0.9924 - val_loss: 0.2814 - val_acc: 0.9822\n",
            "Epoch 10/10\n",
            "678/678 [==============================] - 106s 157ms/step - loss: 0.0195 - acc: 0.9926 - val_loss: 0.2733 - val_acc: 0.9827\n"
          ],
          "name": "stdout"
        },
        {
          "output_type": "execute_result",
          "data": {
            "text/plain": [
              "<keras.callbacks.History at 0x220f63b28d0>"
            ]
          },
          "metadata": {
            "tags": []
          },
          "execution_count": 196
        }
      ]
    },
    {
      "cell_type": "code",
      "metadata": {
        "id": "8iBIA2ltLd-7"
      },
      "source": [
        "labeldata=[0,1,2,3,4,5,6,7,8,9,'A','B','C','D','E','F','G','H','I','J','K','L','M','N','O','P','Q','R','S','T','U','V','W','X','Y','Z']"
      ],
      "execution_count": null,
      "outputs": []
    },
    {
      "cell_type": "code",
      "metadata": {
        "id": "XGwmCNoILd-7",
        "outputId": "6866b5d8-58d5-4ff6-f6f5-a9f298e1eee4"
      },
      "source": [
        "labels.columns"
      ],
      "execution_count": null,
      "outputs": [
        {
          "output_type": "execute_result",
          "data": {
            "text/plain": [
              "Int64Index([ 0,  1,  2,  3,  4,  5,  6,  7,  8,  9, 10, 11, 12, 13, 14, 15, 16,\n",
              "            17, 18, 19, 20, 21, 22, 23, 24, 25, 26, 27, 28, 29, 30, 31, 32, 33,\n",
              "            34, 35],\n",
              "           dtype='int64')"
            ]
          },
          "metadata": {
            "tags": []
          },
          "execution_count": 49
        }
      ]
    },
    {
      "cell_type": "code",
      "metadata": {
        "id": "hvrPAYJsLd-8"
      },
      "source": [
        "dic={}\n",
        "j=0\n",
        "for i in labeldata:\n",
        "    dic.update({j:i})\n",
        "    j+=1"
      ],
      "execution_count": null,
      "outputs": []
    },
    {
      "cell_type": "code",
      "metadata": {
        "id": "sfNWFfnpLd-8",
        "outputId": "1f2653a7-148c-4e6c-e559-e4ef59041e97"
      },
      "source": [
        "X_test.shape"
      ],
      "execution_count": null,
      "outputs": [
        {
          "output_type": "execute_result",
          "data": {
            "text/plain": [
              "(28967, 28, 28, 1)"
            ]
          },
          "metadata": {
            "tags": []
          },
          "execution_count": 52
        }
      ]
    },
    {
      "cell_type": "code",
      "metadata": {
        "id": "jdjmg1h2Ld-9",
        "outputId": "cefd809c-89b8-451b-e2d2-bbcbfdc8d0d9"
      },
      "source": [
        "for i in X_test[:10]:\n",
        "    k=np.argmax(model.predict(i.reshape(1,28,28,1)))\n",
        "    im=i.reshape(28,28)\n",
        "    plt.figure()\n",
        "    print(dic[k])\n",
        "    plt.imshow(im)\n",
        "    \n",
        "    \n",
        "    "
      ],
      "execution_count": null,
      "outputs": [
        {
          "output_type": "stream",
          "text": [
            "8\n",
            "6\n",
            "U\n",
            "R\n",
            "E\n",
            "6\n",
            "4\n",
            "7\n",
            "2\n",
            "1\n"
          ],
          "name": "stdout"
        },
        {
          "output_type": "display_data",
          "data": {
            "image/png": "[encoded data removed]",
            "text/plain": [
              "<Figure size 432x288 with 1 Axes>"
            ]
          },
          "metadata": {
            "tags": [],
            "needs_background": "light"
          }
        },
        {
          "output_type": "display_data",
          "data": {
            "image/png": "[encoded data removed]",
            "text/plain": [
              "<Figure size 432x288 with 1 Axes>"
            ]
          },
          "metadata": {
            "tags": [],
            "needs_background": "light"
          }
        },
        {
          "output_type": "display_data",
          "data": {
            "image/png": "[encoded data removed]",
            "text/plain": [
              "<Figure size 432x288 with 1 Axes>"
            ]
          },
          "metadata": {
            "tags": [],
            "needs_background": "light"
          }
        },
        {
          "output_type": "display_data",
          "data": {
            "image/png": "[encoded data removed]",
            "text/plain": [
              "<Figure size 432x288 with 1 Axes>"
            ]
          },
          "metadata": {
            "tags": [],
            "needs_background": "light"
          }
        },
        {
          "output_type": "display_data",
          "data": {
            "image/png": "[encoded data removed]",
            "text/plain": [
              "<Figure size 432x288 with 1 Axes>"
            ]
          },
          "metadata": {
            "tags": [],
            "needs_background": "light"
          }
        },
        {
          "output_type": "display_data",
          "data": {
            "image/png": "[encoded data removed]",
            "text/plain": [
              "<Figure size 432x288 with 1 Axes>"
            ]
          },
          "metadata": {
            "tags": [],
            "needs_background": "light"
          }
        },
        {
          "output_type": "display_data",
          "data": {
            "image/png": "[encoded data removed]",
            "text/plain": [
              "<Figure size 432x288 with 1 Axes>"
            ]
          },
          "metadata": {
            "tags": [],
            "needs_background": "light"
          }
        },
        {
          "output_type": "display_data",
          "data": {
            "image/png": "[encoded data removed]",
            "text/plain": [
              "<Figure size 432x288 with 1 Axes>"
            ]
          },
          "metadata": {
            "tags": [],
            "needs_background": "light"
          }
        },
        {
          "output_type": "display_data",
          "data": {
            "image/png": "[encoded data removed]",
            "text/plain": [
              "<Figure size 432x288 with 1 Axes>"
            ]
          },
          "metadata": {
            "tags": [],
            "needs_background": "light"
          }
        },
        {
          "output_type": "display_data",
          "data": {
            "image/png": "[encoded data removed]",
            "text/plain": [
              "<Figure size 432x288 with 1 Axes>"
            ]
          },
          "metadata": {
            "tags": [],
            "needs_background": "light"
          }
        }
      ]
    },
    {
      "cell_type": "code",
      "metadata": {
        "id": "2NKpOIhMLd-9"
      },
      "source": [
        "model.save('OCRmodel.h5')"
      ],
      "execution_count": null,
      "outputs": []
    },
    {
      "cell_type": "code",
      "metadata": {
        "id": "SxIIxt1_Ld--"
      },
      "source": [
        "from keras.models import load_model\n",
        "import cv2 as cv\n",
        "import imutils\n",
        "from imutils.contours import sort_contours"
      ],
      "execution_count": null,
      "outputs": []
    },
    {
      "cell_type": "code",
      "metadata": {
        "id": "ew1cvwjdLd--",
        "outputId": "7b07178f-a6e6-44c6-d7fa-08222b366061"
      },
      "source": [
        "model=load_model('model.h5')"
      ],
      "execution_count": null,
      "outputs": [
        {
          "output_type": "stream",
          "text": [
            "WARNING:tensorflow:From C:\\Users\\ajay\\Anaconda3\\lib\\site-packages\\tensorflow\\python\\framework\\op_def_library.py:263: colocate_with (from tensorflow.python.framework.ops) is deprecated and will be removed in a future version.\n",
            "Instructions for updating:\n",
            "Colocations handled automatically by placer.\n",
            "WARNING:tensorflow:From C:\\Users\\ajay\\Anaconda3\\lib\\site-packages\\keras\\backend\\tensorflow_backend.py:3445: calling dropout (from tensorflow.python.ops.nn_ops) with keep_prob is deprecated and will be removed in a future version.\n",
            "Instructions for updating:\n",
            "Please use `rate` instead of `keep_prob`. Rate should be set to `rate = 1 - keep_prob`.\n",
            "WARNING:tensorflow:From C:\\Users\\ajay\\Anaconda3\\lib\\site-packages\\tensorflow\\python\\ops\\math_ops.py:3066: to_int32 (from tensorflow.python.ops.math_ops) is deprecated and will be removed in a future version.\n",
            "Instructions for updating:\n",
            "Use tf.cast instead.\n"
          ],
          "name": "stdout"
        }
      ]
    },
    {
      "cell_type": "code",
      "metadata": {
        "id": "MQjoktpBLd-_",
        "outputId": "2ce10433-e62a-463c-b5ff-6c02475f408e"
      },
      "source": [
        "model.summary()"
      ],
      "execution_count": null,
      "outputs": [
        {
          "output_type": "stream",
          "text": [
            "_________________________________________________________________\n",
            "Layer (type)                 Output Shape              Param #   \n",
            "=================================================================\n",
            "conv2d_5 (Conv2D)            (None, 26, 26, 32)        320       \n",
            "_________________________________________________________________\n",
            "max_pooling2d_5 (MaxPooling2 (None, 13, 13, 32)        0         \n",
            "_________________________________________________________________\n",
            "conv2d_6 (Conv2D)            (None, 11, 11, 32)        9248      \n",
            "_________________________________________________________________\n",
            "max_pooling2d_6 (MaxPooling2 (None, 5, 5, 32)          0         \n",
            "_________________________________________________________________\n",
            "flatten_3 (Flatten)          (None, 800)               0         \n",
            "_________________________________________________________________\n",
            "dense_5 (Dense)              (None, 100)               80100     \n",
            "_________________________________________________________________\n",
            "dropout_3 (Dropout)          (None, 100)               0         \n",
            "_________________________________________________________________\n",
            "dense_6 (Dense)              (None, 36)                3636      \n",
            "=================================================================\n",
            "Total params: 93,304\n",
            "Trainable params: 93,304\n",
            "Non-trainable params: 0\n",
            "_________________________________________________________________\n"
          ],
          "name": "stdout"
        }
      ]
    }
  ]
}